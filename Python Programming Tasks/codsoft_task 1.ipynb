{
 "cells": [
  {
   "cell_type": "markdown",
   "id": "f54020b4",
   "metadata": {},
   "source": [
    "# Task 1:\n",
    "A password generator is a useful tool that generates strong and random passwords for users. This project aims to create a\n",
    "password generator application using Python, allowing users to specify the length and complexity of the password.\n",
    "#### User Input:\n",
    "Prompt the user to specify the desired length of the password.\n",
    "#### Generate Password:\n",
    "Use a combination of random characters to generate a password of the specified length.\n",
    "#### Display the Password: \n",
    "Print the generated password on the screen."
   ]
  },
  {
   "cell_type": "code",
   "execution_count": 11,
   "id": "8552abd3",
   "metadata": {},
   "outputs": [
    {
     "name": "stdout",
     "output_type": "stream",
     "text": [
      "<----PASSWORD GENERATOR---->\n",
      "Enter Your Name: Sanskriti Kadam\n",
      "Enter the Length of the Password or Enter 0 To Exit: 3\n",
      "Here's Your Generated Password: Z1R\n",
      "Do You Want To Reset Your Password?: yes\n",
      "Enter the Length of the Password or Enter 0 To Exit: 56\n",
      "Here's Your Generated Password: GOKoOLIKI~!%6OG{JTU=oZj4DoZR9dk.1+C/'zqlHJ]mm~dQ;NRf63+&\n",
      "Do You Want To Reset Your Password?: no\n",
      "<----EXITING PASSWORD GENERATOR---->\n"
     ]
    }
   ],
   "source": [
    "import secrets\n",
    "import string\n",
    "\n",
    "def Generating_Password(l):\n",
    "    character = string.ascii_letters + string.digits + string.punctuation\n",
    "    generate = ''.join(secrets.choice(character) for _ in range(l))\n",
    "    return generate\n",
    "\n",
    "def Main():\n",
    "    try:\n",
    "        print(\"<----PASSWORD GENERATOR---->\")\n",
    "        name = input(\"Enter Your Name: \")\n",
    "        \n",
    "        while True:\n",
    "            l = int(input(\"Enter the Length of the Password or Enter 0 To Exit: \"))\n",
    "            \n",
    "            if l == 0:\n",
    "                print(\"<----EXITING PASSWORD GENERATOR---->\")\n",
    "                break\n",
    "            \n",
    "            if l <= 0:\n",
    "                print(\"Length Should Be More Than 0.\")\n",
    "                continue\n",
    "            \n",
    "            generate = Generating_Password(l)\n",
    "            print(\"Here's Your Generated Password: {}\".format(generate))\n",
    "            \n",
    "            choice = input(\"Do You Want To Reset Your Password?: \")\n",
    "            if choice.lower() != 'yes':\n",
    "                print(\"<----EXITING PASSWORD GENERATOR---->\")\n",
    "                break\n",
    "    \n",
    "    except Exception as e:\n",
    "        print(\"Error:\", str(e))\n",
    "        \n",
    "    except ValueError:\n",
    "        print(\"Entered Length Is Invalid.\")\n",
    "\n",
    "if __name__ == \"__main__\":\n",
    "    Main()\n"
   ]
  },
  {
   "cell_type": "code",
   "execution_count": null,
   "id": "bc5d5fbd",
   "metadata": {},
   "outputs": [],
   "source": []
  }
 ],
 "metadata": {
  "kernelspec": {
   "display_name": "Python 3 (ipykernel)",
   "language": "python",
   "name": "python3"
  },
  "language_info": {
   "codemirror_mode": {
    "name": "ipython",
    "version": 3
   },
   "file_extension": ".py",
   "mimetype": "text/x-python",
   "name": "python",
   "nbconvert_exporter": "python",
   "pygments_lexer": "ipython3",
   "version": "3.9.13"
  }
 },
 "nbformat": 4,
 "nbformat_minor": 5
}
