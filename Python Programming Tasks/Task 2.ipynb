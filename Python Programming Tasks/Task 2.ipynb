{
 "cells": [
  {
   "cell_type": "markdown",
   "id": "359b7170",
   "metadata": {},
   "source": [
    "# Task 2 :\n",
    "Design a simple calculator with basic arithmetic operations. Prompt the user to input two numbers and an operation choice.\n",
    "Perform the calculation and display the result."
   ]
  },
  {
   "cell_type": "code",
   "execution_count": 6,
   "id": "74b75580",
   "metadata": {},
   "outputs": [
    {
     "name": "stdout",
     "output_type": "stream",
     "text": [
      "<----ARTHIMETIC CALCULATOR---->\n",
      "Available operations:\n",
      "1.Addition\n",
      "2.Subtraction\n",
      "3.Multiplication\n",
      "4.Division\n",
      "5.Exit\n",
      "Enter your choice: 1\n",
      "Enter two numbers : 2.33 4.55\n",
      "Result of 2.33 + 4.55 is: 6.88\n",
      "Enter your choice: 2\n",
      "Enter two numbers : 4.5 2.3\n",
      "Result of 4.50 - 2.30 is: 2.20\n",
      "Enter your choice: 3\n",
      "Enter two numbers : 12 2\n",
      "Result of 12.00 * 2.00 is: 24.00\n",
      "Enter your choice: 4\n",
      "Enter two numbers : 34 5.5\n",
      "Result of 34.00 / 5.50 is: 6.18\n",
      "Enter your choice: 5\n",
      "<----EXITING THE CALCULATOR---->\n"
     ]
    }
   ],
   "source": [
    "import math\n",
    "\n",
    "def addition(p, q):\n",
    "    return p + q\n",
    "\n",
    "def subtraction(p, q):\n",
    "    return p - q\n",
    "\n",
    "def multiply(p, q):\n",
    "    return p * q\n",
    "\n",
    "def divide(p, q):\n",
    "    if q != 0:\n",
    "        return p / q\n",
    "    else:\n",
    "        return \"Please enter a valid denominator except zero.\"\n",
    "\n",
    "\n",
    "def Main():\n",
    "    print(\"<----ARTHIMETIC CALCULATOR---->\")\n",
    "    print(\"Available operations:\")\n",
    "    print(\"1.Addition\")\n",
    "    print(\"2.Subtraction\")\n",
    "    print(\"3.Multiplication\")\n",
    "    print(\"4.Division\")\n",
    "    print(\"5.Exit\")\n",
    "    \n",
    "    while True:\n",
    "        \n",
    "        choice = input(\"Enter your choice: \")\n",
    "        \n",
    "        if choice == \"5\":\n",
    "            print(\"<----EXITING THE CALCULATOR---->\")\n",
    "            break\n",
    "        a,b = map(float,input(\"Enter two numbers : \").split())\n",
    "    \n",
    "        if choice == \"1\":\n",
    "            output = addition(a,b)\n",
    "            operator=\"+\"\n",
    "        elif choice == \"2\":\n",
    "            output = subtraction(a,b)\n",
    "            operator=\"-\"\n",
    "        elif choice == \"3\":\n",
    "            output = multiply(a,b)\n",
    "            operator=\"*\"\n",
    "        elif choice == \"4\":\n",
    "            output = divide(a,b)\n",
    "            operator=\"/\"\n",
    "        else:\n",
    "            output = \"Invalid choice\"\n",
    "            operator=\" \"\n",
    "        \n",
    "        if operator:\n",
    "            print(\"Result of {:.2f} {} {:.2f} is: {:.2f}\".format(a, operator, b, output))\n",
    "    \n",
    "if __name__ == \"__main__\":\n",
    "    Main()"
   ]
  },
  {
   "cell_type": "code",
   "execution_count": null,
   "id": "d0dcdbad",
   "metadata": {},
   "outputs": [],
   "source": []
  }
 ],
 "metadata": {
  "kernelspec": {
   "display_name": "Python 3 (ipykernel)",
   "language": "python",
   "name": "python3"
  },
  "language_info": {
   "codemirror_mode": {
    "name": "ipython",
    "version": 3
   },
   "file_extension": ".py",
   "mimetype": "text/x-python",
   "name": "python",
   "nbconvert_exporter": "python",
   "pygments_lexer": "ipython3",
   "version": "3.9.13"
  }
 },
 "nbformat": 4,
 "nbformat_minor": 5
}
